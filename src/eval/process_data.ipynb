{
 "cells": [
  {
   "cell_type": "code",
   "execution_count": 1,
   "metadata": {},
   "outputs": [],
   "source": [
    "import pandas as pd\n",
    "from tqdm import tqdm\n",
    "import json\n",
    "import random\n",
    "import numpy as np\n",
    "from call_api import *"
   ]
  },
  {
   "cell_type": "markdown",
   "metadata": {},
   "source": [
    "This notebook generates the required data for SFT. It takes in the queries, references, and answers and tie them together with the instruction prompt. It then saves it to a json file."
   ]
  },
  {
   "cell_type": "code",
   "execution_count": 2,
   "metadata": {},
   "outputs": [],
   "source": [
    "# replace these with the paths of your file\n",
    "\n",
    "file_path = 'train-query-ref.json' # the json file of the references and queries\n",
    "file_path_ground_truth = 'train_df.csv' # the csv for the training data\n",
    "output_json_file_path = 'train-multi-nogroundtruth-new-prompt-trans.json' #output path"
   ]
  },
  {
   "cell_type": "code",
   "execution_count": 3,
   "metadata": {},
   "outputs": [],
   "source": [
    "SYSTEM = \"\"\"\n",
    "You are a helpful assistant. \n",
    "You are always a reliable assistant that can answer questions with the help of external documents.\n",
    "\"\"\"\n",
    "\n",
    "\n",
    "INSTRUCTIONS_PREV = \"\"\"\n",
    "- All contents between <DOCUMENTS> and </DOCUMENTS> are reference information retrieved from an external knowledge base.\n",
    "- If you cannot answer based on the given information, you will return the sentence \\\"抱歉，检索到的参考信息并未提供充足的信息，因此无法回答。\\\".\n",
    "- Now, answer the following question based on the following retrieved documents:\n",
    "{question}\n",
    "- Return your answer in Markdown formatting, and in Chinese\".\n",
    "\"\"\"\n",
    "# No figure\n",
    "\n",
    "INSTRUCTIONS_POST = \"\"\"\n",
    "- All contents between <DOCUMENTS> and </DOCUMENTS> are reference information retrieved from an external knowledge base.\n",
    "- If you cannot answer based on the given information, you will return the sentence \\\"抱歉，检索到的参考信息并未提供充足的信息，因此无法回答。\\\".\n",
    "- Now, answer the following question based on the above retrieved documents:\n",
    "{question}\n",
    "- Return your answer in Markdown formatting, and in Chinese\".\n",
    "\"\"\"\n",
    "\n",
    "\n",
    "PROMPT_TEMPLATE = \"\"\"\n",
    "<SYSTEM>\n",
    "{system}\n",
    "</SYSTEM>\n",
    "\n",
    "<USER_INSTRUCTIONS>\n",
    "{user_instructions}\n",
    "</USER_INSTRUCTIONS>\n",
    "\n",
    "<INSTRUCTIONS>\n",
    "{instructions_prev}\n",
    "</INSTRUCTIONS>\n",
    "\n",
    "<DOCUMENTS>\n",
    "{context}\n",
    "</DOCUMENTS>\n",
    "\n",
    "<INSTRUCTIONS>\n",
    "{instructions_post}\n",
    "</INSTRUCTIONS>\n",
    "\"\"\"\n",
    "\n",
    "def construct_prompt(query : str, references: list, answer: str):\n",
    "    result_data = {\n",
    "        'instruction': PROMPT_TEMPLATE.format(\n",
    "            system=SYSTEM,\n",
    "            instructions_prev= INSTRUCTIONS_PREV.format(question=query),\n",
    "            instructions_post= INSTRUCTIONS_POST.format(question=query),\n",
    "            user_instructions='',\n",
    "            context=''.join(['\\n<reference>' + s + '</reference>' for s in references])\n",
    "        ),\n",
    "        'input': '',\n",
    "        'output': answer,\n",
    "        'history':[]\n",
    "    } \n",
    "    \n",
    "    return result_data"
   ]
  },
  {
   "cell_type": "code",
   "execution_count": null,
   "metadata": {},
   "outputs": [],
   "source": [
    "\n",
    "data = pd.read_json(file_path)\n",
    "data_ground_truth = pd.read_csv(file_path_ground_truth)\n",
    "\n",
    "\n",
    "data.head()"
   ]
  },
  {
   "cell_type": "code",
   "execution_count": 5,
   "metadata": {},
   "outputs": [],
   "source": [
    "\n",
    "TRANS_PROMPT = '''\n",
    "Your task is to translate the answer to a question into Chinese.\n",
    "\n",
    "Answer:\n",
    "{translate_text}\n",
    "\n",
    "Follow the following guidelines when translating:\n",
    "1. If the answer is already in Chinese, please do not make any changes to it. Output it as it is.\n",
    "2. Do not change the meaning or any factual elements in the answer. Make sure the meaning stays the same.\n",
    "'''\n",
    "\n",
    "\n"
   ]
  },
  {
   "cell_type": "code",
   "execution_count": 6,
   "metadata": {},
   "outputs": [],
   "source": [
    "# translate responses into chinese:\n",
    "\n",
    "\n",
    "client = AzureOpenAI(\n",
    "    api_key=\"replace with openai key\",\n",
    "    azure_endpoint=\"https://gptforai03.openai.azure.com/\",\n",
    "    api_version=API_VERSION\n",
    ")\n",
    "\n",
    "def translate_ch(query: str, answer: str):\n",
    "    cur_eval_prompt = TRANS_PROMPT.format(\n",
    "        query = query,\n",
    "        translate_text = answer,\n",
    "    )\n",
    "    \n",
    "    messages = [\n",
    "        {\"role\": \"user\", \"content\": \"\"},\n",
    "        {\"role\": \"system\", \"content\" : cur_eval_prompt}\n",
    "    ]\n",
    "\n",
    "\n",
    "\n",
    "    res = client.chat.completions.create(model=Deployment.GPT35_16K, messages=messages, max_tokens=4096)\n",
    "    resstr = res.choices[0].message.content\n",
    "    #print(f'answer: {answer}\\ntranslated answer: {resstr}')\n",
    "    return resstr \n"
   ]
  },
  {
   "cell_type": "code",
   "execution_count": null,
   "metadata": {},
   "outputs": [],
   "source": []
  },
  {
   "cell_type": "code",
   "execution_count": null,
   "metadata": {},
   "outputs": [],
   "source": [
    "\n",
    "print('Translating...')\n",
    "result_data = []\n",
    "for i in tqdm(data.index):\n",
    "    result_data.append(construct_prompt(data['query'][i], data['references'][i], translate_ch(data_ground_truth['queries'][i], data_ground_truth['answers'][i])))\n",
    "\n",
    "\n",
    "with open(output_json_file_path, 'w', encoding='utf-8') as fout:\n",
    "    json.dump(result_data, fout, ensure_ascii=False, indent=4)\n"
   ]
  }
 ],
 "metadata": {
  "kernelspec": {
   "display_name": "Python 3",
   "language": "python",
   "name": "python3"
  },
  "language_info": {
   "codemirror_mode": {
    "name": "ipython",
    "version": 3
   },
   "file_extension": ".py",
   "mimetype": "text/x-python",
   "name": "python",
   "nbconvert_exporter": "python",
   "pygments_lexer": "ipython3",
   "version": "3.10.0"
  }
 },
 "nbformat": 4,
 "nbformat_minor": 2
}
